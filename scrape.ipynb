{
 "cells": [
  {
   "cell_type": "code",
   "execution_count": 148,
   "metadata": {},
   "outputs": [],
   "source": [
    "import pandas as pd\n",
    "import numpy as np\n",
    "from pymongo import MongoClient\n",
    "from bs4 import BeautifulSoup\n",
    "import pprint\n",
    "# Requests sends and recieves HTTP requests.\n",
    "import requests\n",
    "import time"
   ]
  },
  {
   "cell_type": "code",
   "execution_count": 84,
   "metadata": {},
   "outputs": [],
   "source": [
    "%load_ext autoreload\n",
    "%autoreload 2"
   ]
  },
  {
   "cell_type": "code",
   "execution_count": 2,
   "metadata": {},
   "outputs": [],
   "source": [
    "import warnings\n",
    "warnings.filterwarnings('ignore')"
   ]
  },
  {
   "cell_type": "code",
   "execution_count": 3,
   "metadata": {},
   "outputs": [],
   "source": [
    "from selenium import webdriver\n",
    "from selenium.webdriver.common.keys import Keys\n",
    "from selenium.webdriver.chrome.options import Options\n",
    "options = Options()\n",
    "options.headless = True\n",
    "from selenium.common.exceptions import WebDriverException"
   ]
  },
  {
   "cell_type": "code",
   "execution_count": 59,
   "metadata": {},
   "outputs": [],
   "source": [
    "from data_collect import frag_url_scrape\n",
    "from cologne_scrape import frag_info_scrape"
   ]
  },
  {
   "cell_type": "code",
   "execution_count": 5,
   "metadata": {},
   "outputs": [],
   "source": [
    "male_frag=['https://www.fragrantica.com/search/?spol=male&osobine.EN=Aromatic',\n",
    "           'https://www.fragrantica.com/search/?spol=male&osobine.EN=Aromatic%20Aquatic',\n",
    "           'https://www.fragrantica.com/search/?spol=male&osobine.EN=Aromatic%20Fougere',\n",
    "           'https://www.fragrantica.com/search/?spol=male&osobine.EN=Aromatic%20Fruity',\n",
    "           'https://www.fragrantica.com/search/?spol=male&osobine.EN=Aromatic%20Green',\n",
    "           'https://www.fragrantica.com/search/?spol=male&osobine.EN=Aromatic%20Spicy',\n",
    "           'https://www.fragrantica.com/search/?spol=male&osobine.EN=Chypre',\n",
    "           'https://www.fragrantica.com/search/?spol=male&osobine.EN=Chypre%20Floral',\n",
    "           'https://www.fragrantica.com/search/?spol=male&osobine.EN=Chypre%20Fruity',\n",
    "           'https://www.fragrantica.com/search/?spol=male&osobine.EN=Citrus',\n",
    "           'https://www.fragrantica.com/search/?spol=male&osobine.EN=Citrus%20Aromatic',\n",
    "           'https://www.fragrantica.com/search/?spol=male&osobine.EN=Citrus%20Gourmand',\n",
    "           'https://www.fragrantica.com/search/?spol=male&osobine.EN=Floral',\n",
    "           'https://www.fragrantica.com/search/?spol=male&osobine.EN=Floral%20Aldehyde',\n",
    "           'https://www.fragrantica.com/search/?spol=male&osobine.EN=Floral%20Aquatic',\n",
    "           'https://www.fragrantica.com/search/?spol=male&osobine.EN=Floral%20Fruity',\n",
    "           'https://www.fragrantica.com/search/?spol=male&osobine.EN=Floral%20Fruity%20Gourmand',\n",
    "           'https://www.fragrantica.com/search/?spol=male&osobine.EN=Floral%20Green',\n",
    "           'https://www.fragrantica.com/search/?spol=male&osobine.EN=Floral%20Woody%20Musk',\n",
    "           'https://www.fragrantica.com/search/?spol=male&osobine.EN=Leather',\n",
    "           'https://www.fragrantica.com/search/?spol=male&osobine.EN=Oriental',\n",
    "           'https://www.fragrantica.com/search/?spol=male&osobine.EN=Oriental%20Floral',\n",
    "           'https://www.fragrantica.com/search/?spol=male&osobine.EN=Oriental%20Fougere',\n",
    "           'https://www.fragrantica.com/search/?spol=male&osobine.EN=Oriental%20Spicy',\n",
    "           'https://www.fragrantica.com/search/?spol=male&osobine.EN=Oriental%20Vanilla',\n",
    "           'https://www.fragrantica.com/search/?spol=male&osobine.EN=Oriental%20Woody',\n",
    "           'https://www.fragrantica.com/search/?spol=male&osobine.EN=Woody',\n",
    "           'https://www.fragrantica.com/search/?spol=male&osobine.EN=Woody%20Aquatic',\n",
    "           'https://www.fragrantica.com/search/?spol=male&osobine.EN=Woody%20Chypre',\n",
    "           'https://www.fragrantica.com/search/?spol=male&osobine.EN=Woody%20Floral%20Musk',\n",
    "           'https://www.fragrantica.com/search/?spol=male&main_activity=Fragrances~Cosmetics&osobine.EN=Woody%20Aromatic',\n",
    "           'https://www.fragrantica.com/search/?spol=male&main_activity=Fashion~Accessories~Natural%20Perfumery~Retailer~Cars~Jewelry~Celebrity~Sport%20Fashion&osobine.EN=Woody%20Aromatic',\n",
    "          'https://www.fragrantica.com/search/?spol=male&osobine.EN=Woody%20Spicy']"
   ]
  },
  {
   "cell_type": "code",
   "execution_count": 6,
   "metadata": {
    "jupyter": {
     "source_hidden": true
    }
   },
   "outputs": [],
   "source": [
    "driver = webdriver.Chrome(chrome_options=options)\n",
    "driver.get('https://www.fragrantica.com/search/?spol=male')\n",
    "butt=driver.find_element_by_xpath(\"/html/body/div[1]/div[2]/div[3]/div[1]/div[1]/div/div/div/div[2]/div[1]/div/div[3]/div/div/div/div/div/button\")\n",
    "\n",
    "WebDriverException()\n",
    "for i in range(1000):\n",
    "    try:\n",
    "        WebDriverException()\n",
    "        butt.click()\n",
    "\n",
    "    except:\n",
    "        continue\n",
    "\n",
    "urls=[]\n",
    "elements = driver.find_elements_by_css_selector(\"div.ais-InfiniteHits a\")\n",
    "for elem in elements:\n",
    "    urls.append(elem.get_attribute(\"href\"))\n",
    "\n",
    "driver.quit()\n"
   ]
  },
  {
   "cell_type": "code",
   "execution_count": 49,
   "metadata": {},
   "outputs": [
    {
     "data": {
      "text/plain": [
       "numpy.ndarray"
      ]
     },
     "execution_count": 49,
     "metadata": {},
     "output_type": "execute_result"
    }
   ],
   "source": [
    "np.array(male_urls)"
   ]
  },
  {
   "cell_type": "code",
   "execution_count": 42,
   "metadata": {},
   "outputs": [
    {
     "data": {
      "text/plain": [
       "33"
      ]
     },
     "execution_count": 42,
     "metadata": {},
     "output_type": "execute_result"
    }
   ],
   "source": [
    "len(male_frag)"
   ]
  },
  {
   "cell_type": "code",
   "execution_count": 8,
   "metadata": {},
   "outputs": [],
   "source": [
    "male_urls=[]"
   ]
  },
  {
   "cell_type": "code",
   "execution_count": 41,
   "metadata": {},
   "outputs": [
    {
     "ename": "IndexError",
     "evalue": "list index out of range",
     "output_type": "error",
     "traceback": [
      "\u001b[0;31m---------------------------------------------------------------------------\u001b[0m",
      "\u001b[0;31mIndexError\u001b[0m                                Traceback (most recent call last)",
      "\u001b[0;32m<ipython-input-41-4972b01f6b55>\u001b[0m in \u001b[0;36m<module>\u001b[0;34m\u001b[0m\n\u001b[0;32m----> 1\u001b[0;31m \u001b[0;32mfor\u001b[0m \u001b[0mlink\u001b[0m \u001b[0;32min\u001b[0m \u001b[0mmale_frag\u001b[0m\u001b[0;34m[\u001b[0m\u001b[0;36m33\u001b[0m\u001b[0;34m]\u001b[0m\u001b[0;34m:\u001b[0m\u001b[0;34m\u001b[0m\u001b[0;34m\u001b[0m\u001b[0m\n\u001b[0m\u001b[1;32m      2\u001b[0m     \u001b[0murl\u001b[0m\u001b[0;34m=\u001b[0m\u001b[0mfrag_url_scrape\u001b[0m\u001b[0;34m(\u001b[0m\u001b[0mlink\u001b[0m\u001b[0;34m)\u001b[0m\u001b[0;34m\u001b[0m\u001b[0;34m\u001b[0m\u001b[0m\n\u001b[1;32m      3\u001b[0m     \u001b[0mmale_urls\u001b[0m\u001b[0;34m.\u001b[0m\u001b[0mextend\u001b[0m\u001b[0;34m(\u001b[0m\u001b[0murl\u001b[0m\u001b[0;34m)\u001b[0m\u001b[0;34m\u001b[0m\u001b[0;34m\u001b[0m\u001b[0m\n\u001b[1;32m      4\u001b[0m     \u001b[0mprint\u001b[0m\u001b[0;34m(\u001b[0m\u001b[0;34m'*'\u001b[0m\u001b[0;34m)\u001b[0m\u001b[0;34m\u001b[0m\u001b[0;34m\u001b[0m\u001b[0m\n",
      "\u001b[0;31mIndexError\u001b[0m: list index out of range"
     ]
    }
   ],
   "source": [
    "for link in male_frag[33]:\n",
    "    url=frag_url_scrape(link)\n",
    "    male_urls.extend(url)\n",
    "    print('*')"
   ]
  },
  {
   "cell_type": "code",
   "execution_count": 51,
   "metadata": {},
   "outputs": [],
   "source": [
    "pd.DataFrame(np.array(male_urls)).to_csv('data/men_urls.csv')"
   ]
  },
  {
   "cell_type": "code",
   "execution_count": 71,
   "metadata": {},
   "outputs": [],
   "source": [
    "client = MongoClient('localhost', 27017)"
   ]
  },
  {
   "cell_type": "code",
   "execution_count": 73,
   "metadata": {},
   "outputs": [],
   "source": [
    "db = client['cologne']\n",
    "mens_cologne = db['mens_cologne']"
   ]
  },
  {
   "cell_type": "code",
   "execution_count": 74,
   "metadata": {},
   "outputs": [
    {
     "data": {
      "text/plain": [
       "<pymongo.results.InsertOneResult at 0x11ad06410>"
      ]
     },
     "execution_count": 74,
     "metadata": {},
     "output_type": "execute_result"
    }
   ],
   "source": [
    "mens_cologne.remove({\n",
    "    'name': 'RainbowDash', \n",
    "    'age': 16, \n",
    "    'friends': ['TwilightSparkle', 'Applejack', 'Rarity']})"
   ]
  },
  {
   "cell_type": "code",
   "execution_count": 13,
   "metadata": {},
   "outputs": [],
   "source": [
    "colection = db['cologne']"
   ]
  },
  {
   "cell_type": "code",
   "execution_count": 53,
   "metadata": {},
   "outputs": [],
   "source": [
    "df=pd.read_csv('data/men_urls.csv')"
   ]
  },
  {
   "cell_type": "code",
   "execution_count": 87,
   "metadata": {},
   "outputs": [],
   "source": [
    "test=df['0']"
   ]
  },
  {
   "cell_type": "code",
   "execution_count": 88,
   "metadata": {},
   "outputs": [
    {
     "data": {
      "text/plain": [
       "0       https://www.fragrantica.com/perfume/Caron/Pour...\n",
       "1       https://www.fragrantica.com/perfume/Calvin-Kle...\n",
       "2       https://www.fragrantica.com/perfume/Hugo-Boss/...\n",
       "3       https://www.fragrantica.com/perfume/Amouage/Su...\n",
       "4       https://www.fragrantica.com/perfume/Lanvin/L-H...\n",
       "                              ...                        \n",
       "9157    https://www.fragrantica.com/perfume/Thera-Cosm...\n",
       "9158    https://www.fragrantica.com/perfume/s-Oliver/T...\n",
       "9159    https://www.fragrantica.com/perfume/Jequiti/El...\n",
       "9160    https://www.fragrantica.com/perfume/Estiara/Pr...\n",
       "9161    https://www.fragrantica.com/perfume/Linn-Young...\n",
       "Name: 0, Length: 9162, dtype: object"
      ]
     },
     "execution_count": 88,
     "metadata": {},
     "output_type": "execute_result"
    }
   ],
   "source": [
    "test"
   ]
  },
  {
   "cell_type": "code",
   "execution_count": 86,
   "metadata": {},
   "outputs": [
    {
     "name": "stdout",
     "output_type": "stream",
     "text": [
      "200\n"
     ]
    },
    {
     "ename": "NameError",
     "evalue": "name 'mens_cologne' is not defined",
     "output_type": "error",
     "traceback": [
      "\u001b[0;31m---------------------------------------------------------------------------\u001b[0m",
      "\u001b[0;31mNameError\u001b[0m                                 Traceback (most recent call last)",
      "\u001b[0;32m<ipython-input-86-dbdf044ae505>\u001b[0m in \u001b[0;36m<module>\u001b[0;34m\u001b[0m\n\u001b[0;32m----> 1\u001b[0;31m \u001b[0mfrag_info_scrape\u001b[0m\u001b[0;34m(\u001b[0m\u001b[0mtest\u001b[0m\u001b[0;34m)\u001b[0m\u001b[0;34m\u001b[0m\u001b[0;34m\u001b[0m\u001b[0m\n\u001b[0m",
      "\u001b[0;32m~/CologneRec/CologneRecommender/cologne_scrape.py\u001b[0m in \u001b[0;36mfrag_info_scrape\u001b[0;34m(url)\u001b[0m\n\u001b[1;32m    207\u001b[0m \u001b[0;34m\u001b[0m\u001b[0m\n\u001b[1;32m    208\u001b[0m     mens_cologne.insert_one({\n\u001b[0;32m--> 209\u001b[0;31m     \u001b[0;34m'name'\u001b[0m\u001b[0;34m:\u001b[0m \u001b[0mname\u001b[0m\u001b[0;34m,\u001b[0m\u001b[0;34m\u001b[0m\u001b[0;34m\u001b[0m\u001b[0m\n\u001b[0m\u001b[1;32m    210\u001b[0m     \u001b[0;34m'frag rating'\u001b[0m\u001b[0;34m:\u001b[0m \u001b[0mfrag_rating\u001b[0m\u001b[0;34m,\u001b[0m\u001b[0;34m\u001b[0m\u001b[0;34m\u001b[0m\u001b[0m\n\u001b[1;32m    211\u001b[0m     \u001b[0;34m'main accords'\u001b[0m\u001b[0;34m:\u001b[0m \u001b[0maccord_dic\u001b[0m\u001b[0;34m,\u001b[0m\u001b[0;34m\u001b[0m\u001b[0;34m\u001b[0m\u001b[0m\n",
      "\u001b[0;31mNameError\u001b[0m: name 'mens_cologne' is not defined"
     ]
    }
   ],
   "source": [
    "frag_info_scrape(test)"
   ]
  },
  {
   "cell_type": "code",
   "execution_count": 115,
   "metadata": {},
   "outputs": [],
   "source": [
    "def test_scrape(url):\n",
    "    '''\n",
    "    INPUT(String) URL of fragrence review page for a specific fragrence\n",
    "    '''\n",
    "\n",
    "    \n",
    "    r=requests.get(url, headers = {'User-agent': \n",
    "    'Mozilla/5.0 (Macintosh; Intel Mac OS X 10_15_4) AppleWebKit/537.36 (KHTML, like Gecko) Chrome/81.0.4044.138 Safari/537.36'},timeout=1000000)\n",
    "    soup = BeautifulSoup(r.content, \"html.parser\")\n",
    "    \n",
    "    #test for 200 status\n",
    "    print(r.status_code)\n",
    "    \n",
    "    #name of frag\n",
    "    name=soup.find(\"div\",{\"id\": \"col1\"})\n",
    "    name=name.find_all(\"span\",{'itemprop':'name'})\n",
    "    name=name[1].text\n",
    "        \n",
    "    #user ratings of the frag by demographic/time of day/season\n",
    "    ratings = soup.find(\"div\", {\"id\": \"diagramresult\"})\n",
    "    rating=ratings.attrs['title']\n",
    "    rating=rating.split(':')\n",
    "    \n",
    "    #dic of ratings - keys:type of rating - values:number of votes\n",
    "    frag_rating={}\n",
    "    for idx,data in enumerate(rating[:-1]):\n",
    "        if idx % 2 == 0:\n",
    "            frag_rating[data]=float(rating[idx+1])\n",
    "        else:\n",
    "            continue\n",
    "    \n",
    "    #unique accord dictionaries - Key()\n",
    "    accords=soup.find(\"div\",{\"id\": \"prettyPhotoGallery\"})\n",
    "    accords=accords.find_all('div')\n",
    "    accord_dic={}\n",
    "    for i in [2,5,8,11,14,17]:\n",
    "        try:\n",
    "            key=accords[i].find('span').text\n",
    "            value=accords[i].find('div').attrs['style']\n",
    "            value=value.split(';')[0].split(': ')[1].split('p')[0]\n",
    "            accord_dic[key]=float(value)\n",
    "        except:\n",
    "            pass\n",
    "    \n",
    "    mainpicbox=soup.find(\"div\",{\"id\": \"mainpicbox\"})\n",
    "    \n",
    "    #image of frag\n",
    "    try:\n",
    "        image=mainpicbox.find('img')\n",
    "        image=image.attrs['src']\n",
    "    except:\n",
    "        image=np.nan\n",
    "    \n",
    "    \n",
    "    \n",
    "    #have it, want it, had it, signature fragrence\n",
    "    try:\n",
    "        have_had_want=mainpicbox.find_all('p')[2].text\n",
    "        have_had_want=have_had_want.split('  ')\n",
    "    except:\n",
    "        have_had_want=mainpicbox.find_all('p')[1].text\n",
    "        have_had_want=have_had_want.split('  ')\n",
    "    else:\n",
    "        pass\n",
    "    try:\n",
    "        have_it=int(have_had_want[0][-4:])\n",
    "    except:\n",
    "        have_it=0\n",
    "    try:\n",
    "        had_it=int(have_had_want[1][-4:])\n",
    "    except:\n",
    "        had_it=0\n",
    "    try:\n",
    "        want_it=int(have_had_want[2][-4:])\n",
    "    except:\n",
    "        want_it=0\n",
    "    try:\n",
    "        signature=int(have_had_want[3][-4:])\n",
    "    except:\n",
    "        signature=0\n",
    "    \n",
    "    #price of frag\n",
    "    prices=[]\n",
    "    try:\n",
    "        price=soup.find(\"div\",{\"id\": \"newsocial\"})\n",
    "        price=price.find_all('b')\n",
    "        for p in price:\n",
    "            prices.append(p.text)\n",
    "    except:\n",
    "        pass\n",
    "    \n",
    "    #description of frag\n",
    "    try:\n",
    "        description=soup.find('div',{'itemprop':'description'}).text\n",
    "    except:\n",
    "        description=''\n",
    "    \n",
    "    #col2 scrapes column for sillage/longevity\n",
    "    col=soup.find('div',{'id':'col1'})\n",
    "    col1=col.find('div',{'class':'effect6'})\n",
    "    pyramid=col1.find_all('p')\n",
    "\n",
    "    \n",
    "    try:\n",
    "        user_pyramid=col1.find('div',{'id':'userMainNotes'})\n",
    "        user_pyramid=user_pyramid.attrs['title']\n",
    "    except:\n",
    "        user_pyramid=np.nan\n",
    "        \n",
    "    col2=col.find('div',{'class':'longSilBox effect6'})\n",
    "    col2=col2.find_all('table')\n",
    "    \n",
    "    #notes of frag by product description\n",
    "    top_notes=[]\n",
    "    top_notes_id=[]\n",
    "    mid_notes=[]\n",
    "    mid_notes_id=[]\n",
    "    base_notes=[]\n",
    "    base_notes_id=[]\n",
    "\n",
    "    for i in range(len(pyramid)):\n",
    "        for j in range(len(pyramid[i].find_all('span',{'class':'rtgNote'}))):\n",
    "            try:\n",
    "                if i ==0:\n",
    "                    top_notes.append(pyramid[i].find_all('span',{'class':'rtgNote'})[j].find('img').attrs['title'])\n",
    "                    top_notes_id.append(pyramid[i].find_all('span',{'class':'rtgNote'})[j].attrs['title'])\n",
    "            except:\n",
    "                continue\n",
    "            try:\n",
    "                if i ==1:\n",
    "                    mid_notes.append(pyramid[i].find_all('span',{'class':'rtgNote'})[j].find('img').attrs['title'])\n",
    "                    mid_notes_id.append(pyramid[i].find_all('span',{'class':'rtgNote'})[j].attrs['title'])\n",
    "            except:\n",
    "                continue\n",
    "            try:\n",
    "                if i==2:\n",
    "                    base_notes.append(pyramid[i].find_all('span',{'class':'rtgNote'})[j].find('img').attrs['title'])\n",
    "                    base_notes_id.append(pyramid[i].find_all('span',{'class':'rtgNote'})[j].attrs['title'])\n",
    "            except:\n",
    "                continue\n",
    "                \n",
    "    #user voted strength of notes\n",
    "    try:\n",
    "        user_voted_pyramid=user_pyramid.split(';')\n",
    "    except:\n",
    "        user_voted_pyramid=np.nan\n",
    "    \n",
    "    #sillage\n",
    "    sillage=col2[1].text.split()[2:]\n",
    "    close_to_skin=sillage[1]\n",
    "    radiates_arm_length=sillage[3]\n",
    "    radiates_6ft=sillage[5]\n",
    "    fills_room=sillage[7]\n",
    "    \n",
    "    #Longevity\n",
    "    longevity=col2[0].text.split()[2:]\n",
    "    longevity_30m_1hr=longevity[1]\n",
    "    longevity_1hr_2hr=longevity[3]\n",
    "    longevity_3hr_6hr=longevity[5]\n",
    "    longevity_7hr_12hr=longevity[8]\n",
    "    longevity_above12hr=longevity[12]\n",
    "    \n",
    "    #similiar fragrences voted by the public\n",
    "    voted_similar_frag=[]\n",
    "    try:\n",
    "        reminds_me=col.find('div',{'class':'votes'})\n",
    "        #reminds_me.find('div',{'class':'fl'})\n",
    "        remind=reminds_me.find_all('img')\n",
    "        remind_value=reminds_me.find_all('span')\n",
    "\n",
    "        for i in range(len(remind)):\n",
    "            voted_similar_frag.append(remind[i].attrs['title'])\n",
    "            voted_similar_frag.append(remind_value[i].text)\n",
    "    except:\n",
    "        pass\n",
    "    \n",
    "    #user reviews\n",
    "    \n",
    "    user_reviews={}\n",
    "    user_review_date=[]\n",
    "    try:\n",
    "        user=col.find_all('div',{'class':'pwq'})\n",
    "        for i in range(len(user)):\n",
    "            user_name=user[i].find('div',{'class':'avatar'}).find('span').text.split('\\n')[0]\n",
    "            if '.' in user_name:\n",
    "                user_name=user_name.replace('.',' ')\n",
    "            user_review=user[i].find('div',{'class':'revND'}).text.replace('\\n','')\n",
    "            user_reviews[user_name]=user_review\n",
    "            user_review_date.append(user[i].find('div',{'class':'revND'}).text.split('\\n')[1][1:])\n",
    "    except:\n",
    "        pass\n",
    "\n",
    "        \n",
    "    mens_cologne.insert_one({\n",
    "    'name': name, \n",
    "    'frag rating': frag_rating, \n",
    "    'main accords': accord_dic,\n",
    "    'image':image,\n",
    "    'have it':have_it,\n",
    "    'had it':had_it,\n",
    "    'want it':want_it,\n",
    "    'signature':signature,\n",
    "    'price':prices,\n",
    "    'description':description,\n",
    "    'top notes':top_notes,\n",
    "    'top notes id':top_notes_id,\n",
    "    'mid notes':mid_notes,\n",
    "    'mid notes id':mid_notes_id,\n",
    "    'base notes':base_notes,\n",
    "    'base notes id':base_notes_id,\n",
    "    'user voted notes': user_voted_pyramid,\n",
    "    'close to skin':close_to_skin,\n",
    "    'radiates about arm length':radiates_arm_length,\n",
    "    'radiates 6ft':radiates_6ft,\n",
    "    'fills room':fills_room,\n",
    "    '30min to 1hr':longevity_30m_1hr,\n",
    "    '1hr to 2hr':longevity_1hr_2hr,\n",
    "    '3hr to 6hr':longevity_3hr_6hr,\n",
    "    '7hr to 12hr':longevity_7hr_12hr,\n",
    "    'greater than 12hr':longevity_above12hr,\n",
    "    'similiar fragrences by user vote':voted_similar_frag,\n",
    "    'user reviews':user_reviews,\n",
    "    'user review date':user_review_date})\n",
    "    time.sleep(5)"
   ]
  },
  {
   "cell_type": "code",
   "execution_count": 117,
   "metadata": {},
   "outputs": [
    {
     "name": "stdout",
     "output_type": "stream",
     "text": [
      "200\n",
      "200\n",
      "200\n",
      "200\n",
      "200\n",
      "200\n",
      "200\n",
      "200\n",
      "200\n",
      "200\n",
      "200\n",
      "200\n",
      "200\n",
      "200\n",
      "200\n",
      "200\n",
      "200\n",
      "200\n",
      "200\n",
      "200\n",
      "200\n",
      "200\n",
      "429\n"
     ]
    },
    {
     "ename": "AttributeError",
     "evalue": "'NoneType' object has no attribute 'find_all'",
     "output_type": "error",
     "traceback": [
      "\u001b[0;31m---------------------------------------------------------------------------\u001b[0m",
      "\u001b[0;31mAttributeError\u001b[0m                            Traceback (most recent call last)",
      "\u001b[0;32m<ipython-input-117-af2dda8b70fd>\u001b[0m in \u001b[0;36m<module>\u001b[0;34m\u001b[0m\n\u001b[1;32m      1\u001b[0m \u001b[0;32mfor\u001b[0m \u001b[0mpage\u001b[0m \u001b[0;32min\u001b[0m \u001b[0mtest\u001b[0m\u001b[0;34m[\u001b[0m\u001b[0;36m99\u001b[0m\u001b[0;34m:\u001b[0m\u001b[0;34m]\u001b[0m\u001b[0;34m:\u001b[0m\u001b[0;34m\u001b[0m\u001b[0;34m\u001b[0m\u001b[0m\n\u001b[0;32m----> 2\u001b[0;31m     \u001b[0mtest_scrape\u001b[0m\u001b[0;34m(\u001b[0m\u001b[0mpage\u001b[0m\u001b[0;34m)\u001b[0m\u001b[0;34m\u001b[0m\u001b[0;34m\u001b[0m\u001b[0m\n\u001b[0m",
      "\u001b[0;32m<ipython-input-115-d2efceeea3a4>\u001b[0m in \u001b[0;36mtest_scrape\u001b[0;34m(url)\u001b[0m\n\u001b[1;32m     14\u001b[0m     \u001b[0;31m#name of frag\u001b[0m\u001b[0;34m\u001b[0m\u001b[0;34m\u001b[0m\u001b[0;34m\u001b[0m\u001b[0m\n\u001b[1;32m     15\u001b[0m     \u001b[0mname\u001b[0m\u001b[0;34m=\u001b[0m\u001b[0msoup\u001b[0m\u001b[0;34m.\u001b[0m\u001b[0mfind\u001b[0m\u001b[0;34m(\u001b[0m\u001b[0;34m\"div\"\u001b[0m\u001b[0;34m,\u001b[0m\u001b[0;34m{\u001b[0m\u001b[0;34m\"id\"\u001b[0m\u001b[0;34m:\u001b[0m \u001b[0;34m\"col1\"\u001b[0m\u001b[0;34m}\u001b[0m\u001b[0;34m)\u001b[0m\u001b[0;34m\u001b[0m\u001b[0;34m\u001b[0m\u001b[0m\n\u001b[0;32m---> 16\u001b[0;31m     \u001b[0mname\u001b[0m\u001b[0;34m=\u001b[0m\u001b[0mname\u001b[0m\u001b[0;34m.\u001b[0m\u001b[0mfind_all\u001b[0m\u001b[0;34m(\u001b[0m\u001b[0;34m\"span\"\u001b[0m\u001b[0;34m,\u001b[0m\u001b[0;34m{\u001b[0m\u001b[0;34m'itemprop'\u001b[0m\u001b[0;34m:\u001b[0m\u001b[0;34m'name'\u001b[0m\u001b[0;34m}\u001b[0m\u001b[0;34m)\u001b[0m\u001b[0;34m\u001b[0m\u001b[0;34m\u001b[0m\u001b[0m\n\u001b[0m\u001b[1;32m     17\u001b[0m     \u001b[0mname\u001b[0m\u001b[0;34m=\u001b[0m\u001b[0mname\u001b[0m\u001b[0;34m[\u001b[0m\u001b[0;36m1\u001b[0m\u001b[0;34m]\u001b[0m\u001b[0;34m.\u001b[0m\u001b[0mtext\u001b[0m\u001b[0;34m\u001b[0m\u001b[0;34m\u001b[0m\u001b[0m\n\u001b[1;32m     18\u001b[0m \u001b[0;34m\u001b[0m\u001b[0m\n",
      "\u001b[0;31mAttributeError\u001b[0m: 'NoneType' object has no attribute 'find_all'"
     ]
    }
   ],
   "source": [
    "for page in test[99:]:\n",
    "    test_scrape(page)"
   ]
  },
  {
   "cell_type": "code",
   "execution_count": 91,
   "metadata": {},
   "outputs": [
    {
     "data": {
      "text/plain": [
       "'https://www.fragrantica.com/perfume/Calvin-Klein/Reveal-Men-27996.html'"
      ]
     },
     "execution_count": 91,
     "metadata": {},
     "output_type": "execute_result"
    }
   ],
   "source": [
    "test[1]"
   ]
  },
  {
   "cell_type": "code",
   "execution_count": 92,
   "metadata": {},
   "outputs": [
    {
     "data": {
      "text/plain": [
       "1    https://www.fragrantica.com/perfume/Calvin-Kle...\n",
       "2    https://www.fragrantica.com/perfume/Hugo-Boss/...\n",
       "Name: 0, dtype: object"
      ]
     },
     "execution_count": 92,
     "metadata": {},
     "output_type": "execute_result"
    }
   ],
   "source": [
    "for i in range(1000)"
   ]
  },
  {
   "cell_type": "code",
   "execution_count": 118,
   "metadata": {},
   "outputs": [
    {
     "data": {
      "text/plain": [
       "123"
      ]
     },
     "execution_count": 118,
     "metadata": {},
     "output_type": "execute_result"
    }
   ],
   "source": [
    "mens_cologne.count_documents({})"
   ]
  },
  {
   "cell_type": "code",
   "execution_count": 110,
   "metadata": {},
   "outputs": [
    {
     "data": {
      "text/plain": [
       "'https://www.fragrantica.com/perfume/Jean-Paul-Gaultier/Le-Male-Summer-2013-17823.html'"
      ]
     },
     "execution_count": 110,
     "metadata": {},
     "output_type": "execute_result"
    }
   ],
   "source": [
    "test[77]"
   ]
  },
  {
   "cell_type": "code",
   "execution_count": 120,
   "metadata": {},
   "outputs": [],
   "source": [
    "df=pd.DataFrame(list(mens_cologne.find()))"
   ]
  },
  {
   "cell_type": "code",
   "execution_count": 122,
   "metadata": {},
   "outputs": [],
   "source": [
    "df=df.drop(columns=['age','friends'])"
   ]
  },
  {
   "cell_type": "code",
   "execution_count": 126,
   "metadata": {},
   "outputs": [],
   "source": [
    "df=df.drop(0)"
   ]
  },
  {
   "cell_type": "code",
   "execution_count": 133,
   "metadata": {},
   "outputs": [],
   "source": [
    "df=df.drop(columns='_id')"
   ]
  },
  {
   "cell_type": "code",
   "execution_count": 136,
   "metadata": {},
   "outputs": [],
   "source": [
    "pd.set_option('max_columns', None)"
   ]
  },
  {
   "cell_type": "code",
   "execution_count": 146,
   "metadata": {},
   "outputs": [
    {
     "data": {
      "text/plain": [
       "1      1410.0\n",
       "2      1410.0\n",
       "3       636.0\n",
       "4       556.0\n",
       "5         0.0\n",
       "        ...  \n",
       "118       0.0\n",
       "119       0.0\n",
       "120       0.0\n",
       "121       0.0\n",
       "122       0.0\n",
       "Name: have it, Length: 122, dtype: float64"
      ]
     },
     "execution_count": 146,
     "metadata": {},
     "output_type": "execute_result"
    }
   ],
   "source": [
    "df['have it']"
   ]
  },
  {
   "cell_type": "code",
   "execution_count": 147,
   "metadata": {},
   "outputs": [
    {
     "data": {
      "text/plain": [
       "'https://www.fragrantica.com/perfume/Adidas/Adidas-Sport-Fever-7209.html'"
      ]
     },
     "execution_count": 147,
     "metadata": {},
     "output_type": "execute_result"
    }
   ],
   "source": [
    "test[120]"
   ]
  },
  {
   "cell_type": "code",
   "execution_count": null,
   "metadata": {},
   "outputs": [],
   "source": []
  }
 ],
 "metadata": {
  "kernelspec": {
   "display_name": "Python 3",
   "language": "python",
   "name": "python3"
  },
  "language_info": {
   "codemirror_mode": {
    "name": "ipython",
    "version": 3
   },
   "file_extension": ".py",
   "mimetype": "text/x-python",
   "name": "python",
   "nbconvert_exporter": "python",
   "pygments_lexer": "ipython3",
   "version": "3.7.4"
  }
 },
 "nbformat": 4,
 "nbformat_minor": 4
}
