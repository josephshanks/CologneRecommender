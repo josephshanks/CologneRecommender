{
 "cells": [
  {
   "cell_type": "code",
   "execution_count": 1,
   "metadata": {},
   "outputs": [],
   "source": [
    "import pandas as pd\n",
    "import numpy as np\n",
    "from pymongo import MongoClient\n",
    "from bs4 import BeautifulSoup\n",
    "import pprint\n",
    "# Requests sends and recieves HTTP requests.\n",
    "import requests"
   ]
  },
  {
   "cell_type": "code",
   "execution_count": 2,
   "metadata": {},
   "outputs": [],
   "source": [
    "import warnings\n",
    "warnings.filterwarnings('ignore')"
   ]
  },
  {
   "cell_type": "code",
   "execution_count": 3,
   "metadata": {},
   "outputs": [],
   "source": [
    "from selenium import webdriver\n",
    "from selenium.webdriver.common.keys import Keys\n",
    "from selenium.webdriver.chrome.options import Options\n",
    "options = Options()\n",
    "options.headless = True\n",
    "from selenium.common.exceptions import WebDriverException"
   ]
  },
  {
   "cell_type": "code",
   "execution_count": 4,
   "metadata": {},
   "outputs": [],
   "source": [
    "from data_collect import frag_url_scrape\n"
   ]
  },
  {
   "cell_type": "code",
   "execution_count": 5,
   "metadata": {},
   "outputs": [],
   "source": [
    "male_frag=['https://www.fragrantica.com/search/?spol=male&osobine.EN=Aromatic',\n",
    "           'https://www.fragrantica.com/search/?spol=male&osobine.EN=Aromatic%20Aquatic',\n",
    "           'https://www.fragrantica.com/search/?spol=male&osobine.EN=Aromatic%20Fougere',\n",
    "           'https://www.fragrantica.com/search/?spol=male&osobine.EN=Aromatic%20Fruity',\n",
    "           'https://www.fragrantica.com/search/?spol=male&osobine.EN=Aromatic%20Green',\n",
    "           'https://www.fragrantica.com/search/?spol=male&osobine.EN=Aromatic%20Spicy',\n",
    "           'https://www.fragrantica.com/search/?spol=male&osobine.EN=Chypre',\n",
    "           'https://www.fragrantica.com/search/?spol=male&osobine.EN=Chypre%20Floral',\n",
    "           'https://www.fragrantica.com/search/?spol=male&osobine.EN=Chypre%20Fruity',\n",
    "           'https://www.fragrantica.com/search/?spol=male&osobine.EN=Citrus',\n",
    "           'https://www.fragrantica.com/search/?spol=male&osobine.EN=Citrus%20Aromatic',\n",
    "           'https://www.fragrantica.com/search/?spol=male&osobine.EN=Citrus%20Gourmand',\n",
    "           'https://www.fragrantica.com/search/?spol=male&osobine.EN=Floral',\n",
    "           'https://www.fragrantica.com/search/?spol=male&osobine.EN=Floral%20Aldehyde',\n",
    "           'https://www.fragrantica.com/search/?spol=male&osobine.EN=Floral%20Aquatic',\n",
    "           'https://www.fragrantica.com/search/?spol=male&osobine.EN=Floral%20Fruity',\n",
    "           'https://www.fragrantica.com/search/?spol=male&osobine.EN=Floral%20Fruity%20Gourmand',\n",
    "           'https://www.fragrantica.com/search/?spol=male&osobine.EN=Floral%20Green',\n",
    "           'https://www.fragrantica.com/search/?spol=male&osobine.EN=Floral%20Woody%20Musk',\n",
    "           'https://www.fragrantica.com/search/?spol=male&osobine.EN=Leather',\n",
    "           'https://www.fragrantica.com/search/?spol=male&osobine.EN=Oriental',\n",
    "           'https://www.fragrantica.com/search/?spol=male&osobine.EN=Oriental%20Floral',\n",
    "           'https://www.fragrantica.com/search/?spol=male&osobine.EN=Oriental%20Fougere',\n",
    "           'https://www.fragrantica.com/search/?spol=male&osobine.EN=Oriental%20Spicy',\n",
    "           'https://www.fragrantica.com/search/?spol=male&osobine.EN=Oriental%20Vanilla',\n",
    "           'https://www.fragrantica.com/search/?spol=male&osobine.EN=Oriental%20Woody',\n",
    "           'https://www.fragrantica.com/search/?spol=male&osobine.EN=Woody',\n",
    "           'https://www.fragrantica.com/search/?spol=male&osobine.EN=Woody%20Aquatic',\n",
    "           'https://www.fragrantica.com/search/?spol=male&osobine.EN=Woody%20Chypre',\n",
    "           'https://www.fragrantica.com/search/?spol=male&osobine.EN=Woody%20Floral%20Musk',\n",
    "           'https://www.fragrantica.com/search/?spol=male&main_activity=Fragrances~Cosmetics&osobine.EN=Woody%20Aromatic',\n",
    "           'https://www.fragrantica.com/search/?spol=male&main_activity=Fashion~Accessories~Natural%20Perfumery~Retailer~Cars~Jewelry~Celebrity~Sport%20Fashion&osobine.EN=Woody%20Aromatic',\n",
    "          'https://www.fragrantica.com/search/?spol=male&osobine.EN=Woody%20Spicy']"
   ]
  },
  {
   "cell_type": "code",
   "execution_count": 6,
   "metadata": {},
   "outputs": [],
   "source": [
    "driver = webdriver.Chrome(chrome_options=options)\n",
    "driver.get('https://www.fragrantica.com/search/?spol=male')\n",
    "butt=driver.find_element_by_xpath(\"/html/body/div[1]/div[2]/div[3]/div[1]/div[1]/div/div/div/div[2]/div[1]/div/div[3]/div/div/div/div/div/button\")\n",
    "\n",
    "WebDriverException()\n",
    "for i in range(1000):\n",
    "    try:\n",
    "        WebDriverException()\n",
    "        butt.click()\n",
    "\n",
    "    except:\n",
    "        continue\n",
    "\n",
    "urls=[]\n",
    "elements = driver.find_elements_by_css_selector(\"div.ais-InfiniteHits a\")\n",
    "for elem in elements:\n",
    "    urls.append(elem.get_attribute(\"href\"))\n",
    "\n",
    "driver.quit()\n"
   ]
  },
  {
   "cell_type": "code",
   "execution_count": 7,
   "metadata": {},
   "outputs": [
    {
     "data": {
      "text/plain": [
       "1000"
      ]
     },
     "execution_count": 7,
     "metadata": {},
     "output_type": "execute_result"
    }
   ],
   "source": [
    "len(urls)"
   ]
  },
  {
   "cell_type": "code",
   "execution_count": 8,
   "metadata": {},
   "outputs": [],
   "source": [
    "male_urls=[]"
   ]
  },
  {
   "cell_type": "code",
   "execution_count": 24,
   "metadata": {},
   "outputs": [
    {
     "name": "stdout",
     "output_type": "stream",
     "text": [
      "*\n",
      "*\n",
      "*\n"
     ]
    }
   ],
   "source": [
    "for link in male_frag[2:5]:\n",
    "    url=frag_url_scrape(link)\n",
    "    male_urls.extend(url)\n",
    "    print('*')"
   ]
  },
  {
   "cell_type": "code",
   "execution_count": 25,
   "metadata": {},
   "outputs": [
    {
     "data": {
      "text/plain": [
       "1977"
      ]
     },
     "execution_count": 25,
     "metadata": {},
     "output_type": "execute_result"
    }
   ],
   "source": [
    "len(set(male_urls))"
   ]
  },
  {
   "cell_type": "code",
   "execution_count": 11,
   "metadata": {},
   "outputs": [],
   "source": [
    "client = MongoClient('localhost', 27017)"
   ]
  },
  {
   "cell_type": "code",
   "execution_count": 12,
   "metadata": {},
   "outputs": [],
   "source": [
    "db = client['cologne']"
   ]
  },
  {
   "cell_type": "code",
   "execution_count": 13,
   "metadata": {},
   "outputs": [],
   "source": [
    "colection = db['cologne']"
   ]
  },
  {
   "cell_type": "code",
   "execution_count": 14,
   "metadata": {},
   "outputs": [
    {
     "name": "stdout",
     "output_type": "stream",
     "text": [
      "[]\n"
     ]
    }
   ],
   "source": [
    "print(list(colection.find()))"
   ]
  },
  {
   "cell_type": "code",
   "execution_count": 15,
   "metadata": {},
   "outputs": [],
   "source": [
    "url = 'https://www.fragrantica.com/perfume/Yves-Saint-Laurent/La-Nuit-de-l-Homme-5521.html'"
   ]
  },
  {
   "cell_type": "code",
   "execution_count": 16,
   "metadata": {},
   "outputs": [],
   "source": [
    "r=requests.get(url, headers = {'User-agent': 'Mozilla/5.0 (Macintosh; Intel Mac OS X 10_15_4) AppleWebKit/537.36 (KHTML, like Gecko) Chrome/81.0.4044.138 Safari/537.36'})"
   ]
  },
  {
   "cell_type": "code",
   "execution_count": 17,
   "metadata": {},
   "outputs": [
    {
     "data": {
      "text/plain": [
       "200"
      ]
     },
     "execution_count": 17,
     "metadata": {},
     "output_type": "execute_result"
    }
   ],
   "source": [
    "r.status_code"
   ]
  },
  {
   "cell_type": "code",
   "execution_count": null,
   "metadata": {
    "collapsed": true,
    "jupyter": {
     "outputs_hidden": true
    }
   },
   "outputs": [],
   "source": []
  },
  {
   "cell_type": "code",
   "execution_count": 18,
   "metadata": {},
   "outputs": [],
   "source": [
    "soup = BeautifulSoup(r.content, \"html.parser\")"
   ]
  },
  {
   "cell_type": "code",
   "execution_count": 19,
   "metadata": {},
   "outputs": [],
   "source": [
    "div = soup.find(\"div\", {\"id\": \"diagramresult\"})"
   ]
  },
  {
   "cell_type": "code",
   "execution_count": 20,
   "metadata": {},
   "outputs": [
    {
     "data": {
      "text/plain": [
       "'id:2208:perfume_id:5521:clslove:100:clslike:46:clsdislike:11:clswinter:53:clsspring:24:clssummer:10:clsautumn:51:clscold:67:clshot:18:clsday:19:clsnight:65:updatevrijeme:1591023218:people:9471:clslove_female25under:3:clslove_male25under:30:clslove_female25older:6:clslove_male25older:58:clslike_female25under:2:clslike_male25under:12:clslike_female25older:3:clslike_male25older:28:clsdislike_female25under:1:clsdislike_male25under:2:clsdislike_female25older:1:clsdislike_male25older:7:clswinter_female25under:1:clswinter_male25under:16:clswinter_female25older:1:clswinter_male25older:34:clsspring_female25under:1:clsspring_male25under:6:clsspring_female25older:1:clsspring_male25older:16:clssummer_female25under:1:clssummer_male25under:2:clssummer_female25older:1:clssummer_male25older:7:clsautumn_female25under:1:clsautumn_male25under:15:clsautumn_female25older:1:clsautumn_male25older:33:clsday_female25under:1:clsday_male25under:5:clsday_female25older:1:clsday_male25older:12:clsnight_female25under:1:clsnight_male25under:20:clsnight_female25older:2:clsnight_male25older:40:average_rating:4.42:'"
      ]
     },
     "execution_count": 20,
     "metadata": {},
     "output_type": "execute_result"
    }
   ],
   "source": [
    "div.attrs['title']"
   ]
  },
  {
   "cell_type": "code",
   "execution_count": 21,
   "metadata": {},
   "outputs": [],
   "source": [
    "empty_row = {\n",
    "    \"id\": None, \"perfume_id\": None, \"time\": None, \"comment\": None\n",
    "}"
   ]
  },
  {
   "cell_type": "code",
   "execution_count": 22,
   "metadata": {},
   "outputs": [
    {
     "ename": "AttributeError",
     "evalue": "'NavigableString' object has no attribute 'get_text'",
     "output_type": "error",
     "traceback": [
      "\u001b[0;31m---------------------------------------------------------------------------\u001b[0m",
      "\u001b[0;31mAttributeError\u001b[0m                            Traceback (most recent call last)",
      "\u001b[0;32m<ipython-input-22-73d1aa17bc1a>\u001b[0m in \u001b[0;36m<module>\u001b[0;34m\u001b[0m\n\u001b[1;32m      1\u001b[0m \u001b[0;32mfor\u001b[0m \u001b[0mdi\u001b[0m \u001b[0;32min\u001b[0m \u001b[0mdiv\u001b[0m\u001b[0;34m:\u001b[0m\u001b[0;34m\u001b[0m\u001b[0;34m\u001b[0m\u001b[0m\n\u001b[0;32m----> 2\u001b[0;31m     \u001b[0mprint\u001b[0m\u001b[0;34m(\u001b[0m\u001b[0mdi\u001b[0m\u001b[0;34m.\u001b[0m\u001b[0mget_text\u001b[0m\u001b[0;34m(\u001b[0m\u001b[0;34m)\u001b[0m\u001b[0;34m)\u001b[0m\u001b[0;34m\u001b[0m\u001b[0;34m\u001b[0m\u001b[0m\n\u001b[0m",
      "\u001b[0;32m~/opt/anaconda3/lib/python3.7/site-packages/bs4/element.py\u001b[0m in \u001b[0;36m__getattr__\u001b[0;34m(self, attr)\u001b[0m\n\u001b[1;32m    644\u001b[0m             raise AttributeError(\n\u001b[1;32m    645\u001b[0m                 \"'%s' object has no attribute '%s'\" % (\n\u001b[0;32m--> 646\u001b[0;31m                     self.__class__.__name__, attr))\n\u001b[0m\u001b[1;32m    647\u001b[0m \u001b[0;34m\u001b[0m\u001b[0m\n\u001b[1;32m    648\u001b[0m     \u001b[0;32mdef\u001b[0m \u001b[0moutput_ready\u001b[0m\u001b[0;34m(\u001b[0m\u001b[0mself\u001b[0m\u001b[0;34m,\u001b[0m \u001b[0mformatter\u001b[0m\u001b[0;34m=\u001b[0m\u001b[0;34m\"minimal\"\u001b[0m\u001b[0;34m)\u001b[0m\u001b[0;34m:\u001b[0m\u001b[0;34m\u001b[0m\u001b[0;34m\u001b[0m\u001b[0m\n",
      "\u001b[0;31mAttributeError\u001b[0m: 'NavigableString' object has no attribute 'get_text'"
     ]
    }
   ],
   "source": [
    "for di in div:\n",
    "    print(di.get_text())"
   ]
  },
  {
   "cell_type": "code",
   "execution_count": null,
   "metadata": {},
   "outputs": [],
   "source": []
  },
  {
   "cell_type": "code",
   "execution_count": null,
   "metadata": {},
   "outputs": [],
   "source": []
  },
  {
   "cell_type": "code",
   "execution_count": null,
   "metadata": {},
   "outputs": [],
   "source": []
  },
  {
   "cell_type": "code",
   "execution_count": null,
   "metadata": {},
   "outputs": [],
   "source": []
  },
  {
   "cell_type": "code",
   "execution_count": null,
   "metadata": {},
   "outputs": [],
   "source": []
  },
  {
   "cell_type": "code",
   "execution_count": null,
   "metadata": {},
   "outputs": [],
   "source": []
  }
 ],
 "metadata": {
  "kernelspec": {
   "display_name": "Python 3",
   "language": "python",
   "name": "python3"
  },
  "language_info": {
   "codemirror_mode": {
    "name": "ipython",
    "version": 3
   },
   "file_extension": ".py",
   "mimetype": "text/x-python",
   "name": "python",
   "nbconvert_exporter": "python",
   "pygments_lexer": "ipython3",
   "version": "3.7.4"
  }
 },
 "nbformat": 4,
 "nbformat_minor": 4
}
