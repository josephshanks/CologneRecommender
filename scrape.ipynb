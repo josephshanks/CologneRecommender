{
 "cells": [
  {
   "cell_type": "code",
   "execution_count": 1,
   "metadata": {},
   "outputs": [],
   "source": [
    "import pandas as pd\n",
    "import numpy as np\n",
    "from pymongo import MongoClient\n",
    "from bs4 import BeautifulSoup\n",
    "import pprint\n",
    "# Requests sends and recieves HTTP requests.\n",
    "import requests\n",
    "import random\n",
    "import time\n",
    "from fake_useragent import UserAgent"
   ]
  },
  {
   "cell_type": "code",
   "execution_count": 2,
   "metadata": {},
   "outputs": [],
   "source": [
    "%load_ext autoreload\n",
    "%autoreload 2"
   ]
  },
  {
   "cell_type": "code",
   "execution_count": 3,
   "metadata": {},
   "outputs": [],
   "source": [
    "import warnings\n",
    "warnings.filterwarnings('ignore')"
   ]
  },
  {
   "cell_type": "code",
   "execution_count": 4,
   "metadata": {},
   "outputs": [],
   "source": [
    "from selenium import webdriver\n",
    "from selenium.webdriver.common.keys import Keys\n",
    "from selenium.webdriver.chrome.options import Options\n",
    "options = Options()\n",
    "options.headless = True\n",
    "from selenium.common.exceptions import WebDriverException"
   ]
  },
  {
   "cell_type": "code",
   "execution_count": 5,
   "metadata": {},
   "outputs": [],
   "source": [
    "from data_collect import frag_url_scrape\n",
    "from cologne_scrape import frag_info_scrape"
   ]
  },
  {
   "cell_type": "code",
   "execution_count": 5,
   "metadata": {},
   "outputs": [],
   "source": [
    "male_frag=['https://www.fragrantica.com/search/?spol=male&osobine.EN=Aromatic',\n",
    "           'https://www.fragrantica.com/search/?spol=male&osobine.EN=Aromatic%20Aquatic',\n",
    "           'https://www.fragrantica.com/search/?spol=male&osobine.EN=Aromatic%20Fougere',\n",
    "           'https://www.fragrantica.com/search/?spol=male&osobine.EN=Aromatic%20Fruity',\n",
    "           'https://www.fragrantica.com/search/?spol=male&osobine.EN=Aromatic%20Green',\n",
    "           'https://www.fragrantica.com/search/?spol=male&osobine.EN=Aromatic%20Spicy',\n",
    "           'https://www.fragrantica.com/search/?spol=male&osobine.EN=Chypre',\n",
    "           'https://www.fragrantica.com/search/?spol=male&osobine.EN=Chypre%20Floral',\n",
    "           'https://www.fragrantica.com/search/?spol=male&osobine.EN=Chypre%20Fruity',\n",
    "           'https://www.fragrantica.com/search/?spol=male&osobine.EN=Citrus',\n",
    "           'https://www.fragrantica.com/search/?spol=male&osobine.EN=Citrus%20Aromatic',\n",
    "           'https://www.fragrantica.com/search/?spol=male&osobine.EN=Citrus%20Gourmand',\n",
    "           'https://www.fragrantica.com/search/?spol=male&osobine.EN=Floral',\n",
    "           'https://www.fragrantica.com/search/?spol=male&osobine.EN=Floral%20Aldehyde',\n",
    "           'https://www.fragrantica.com/search/?spol=male&osobine.EN=Floral%20Aquatic',\n",
    "           'https://www.fragrantica.com/search/?spol=male&osobine.EN=Floral%20Fruity',\n",
    "           'https://www.fragrantica.com/search/?spol=male&osobine.EN=Floral%20Fruity%20Gourmand',\n",
    "           'https://www.fragrantica.com/search/?spol=male&osobine.EN=Floral%20Green',\n",
    "           'https://www.fragrantica.com/search/?spol=male&osobine.EN=Floral%20Woody%20Musk',\n",
    "           'https://www.fragrantica.com/search/?spol=male&osobine.EN=Leather',\n",
    "           'https://www.fragrantica.com/search/?spol=male&osobine.EN=Oriental',\n",
    "           'https://www.fragrantica.com/search/?spol=male&osobine.EN=Oriental%20Floral',\n",
    "           'https://www.fragrantica.com/search/?spol=male&osobine.EN=Oriental%20Fougere',\n",
    "           'https://www.fragrantica.com/search/?spol=male&osobine.EN=Oriental%20Spicy',\n",
    "           'https://www.fragrantica.com/search/?spol=male&osobine.EN=Oriental%20Vanilla',\n",
    "           'https://www.fragrantica.com/search/?spol=male&osobine.EN=Oriental%20Woody',\n",
    "           'https://www.fragrantica.com/search/?spol=male&osobine.EN=Woody',\n",
    "           'https://www.fragrantica.com/search/?spol=male&osobine.EN=Woody%20Aquatic',\n",
    "           'https://www.fragrantica.com/search/?spol=male&osobine.EN=Woody%20Chypre',\n",
    "           'https://www.fragrantica.com/search/?spol=male&osobine.EN=Woody%20Floral%20Musk',\n",
    "           'https://www.fragrantica.com/search/?spol=male&main_activity=Fragrances~Cosmetics&osobine.EN=Woody%20Aromatic',\n",
    "           'https://www.fragrantica.com/search/?spol=male&main_activity=Fashion~Accessories~Natural%20Perfumery~Retailer~Cars~Jewelry~Celebrity~Sport%20Fashion&osobine.EN=Woody%20Aromatic',\n",
    "          'https://www.fragrantica.com/search/?spol=male&osobine.EN=Woody%20Spicy']"
   ]
  },
  {
   "cell_type": "code",
   "execution_count": 6,
   "metadata": {
    "jupyter": {
     "source_hidden": true
    }
   },
   "outputs": [],
   "source": [
    "driver = webdriver.Chrome(chrome_options=options)\n",
    "driver.get('https://www.fragrantica.com/search/?spol=male')\n",
    "butt=driver.find_element_by_xpath(\"/html/body/div[1]/div[2]/div[3]/div[1]/div[1]/div/div/div/div[2]/div[1]/div/div[3]/div/div/div/div/div/button\")\n",
    "\n",
    "WebDriverException()\n",
    "for i in range(1000):\n",
    "    try:\n",
    "        WebDriverException()\n",
    "        butt.click()\n",
    "\n",
    "    except:\n",
    "        continue\n",
    "\n",
    "urls=[]\n",
    "elements = driver.find_elements_by_css_selector(\"div.ais-InfiniteHits a\")\n",
    "for elem in elements:\n",
    "    urls.append(elem.get_attribute(\"href\"))\n",
    "\n",
    "driver.quit()\n"
   ]
  },
  {
   "cell_type": "code",
   "execution_count": 8,
   "metadata": {},
   "outputs": [],
   "source": [
    "# male_urls=[]"
   ]
  },
  {
   "cell_type": "code",
   "execution_count": 36,
   "metadata": {},
   "outputs": [],
   "source": []
  },
  {
   "cell_type": "code",
   "execution_count": 37,
   "metadata": {},
   "outputs": [
    {
     "data": {
      "text/plain": [
       "<fake_useragent.fake.FakeUserAgent at 0x11c76cd50>"
      ]
     },
     "execution_count": 37,
     "metadata": {},
     "output_type": "execute_result"
    }
   ],
   "source": []
  },
  {
   "cell_type": "code",
   "execution_count": 41,
   "metadata": {
    "collapsed": true,
    "jupyter": {
     "outputs_hidden": true
    }
   },
   "outputs": [
    {
     "ename": "IndexError",
     "evalue": "list index out of range",
     "output_type": "error",
     "traceback": [
      "\u001b[0;31m---------------------------------------------------------------------------\u001b[0m",
      "\u001b[0;31mIndexError\u001b[0m                                Traceback (most recent call last)",
      "\u001b[0;32m<ipython-input-41-4972b01f6b55>\u001b[0m in \u001b[0;36m<module>\u001b[0;34m\u001b[0m\n\u001b[0;32m----> 1\u001b[0;31m \u001b[0;32mfor\u001b[0m \u001b[0mlink\u001b[0m \u001b[0;32min\u001b[0m \u001b[0mmale_frag\u001b[0m\u001b[0;34m[\u001b[0m\u001b[0;36m33\u001b[0m\u001b[0;34m]\u001b[0m\u001b[0;34m:\u001b[0m\u001b[0;34m\u001b[0m\u001b[0;34m\u001b[0m\u001b[0m\n\u001b[0m\u001b[1;32m      2\u001b[0m     \u001b[0murl\u001b[0m\u001b[0;34m=\u001b[0m\u001b[0mfrag_url_scrape\u001b[0m\u001b[0;34m(\u001b[0m\u001b[0mlink\u001b[0m\u001b[0;34m)\u001b[0m\u001b[0;34m\u001b[0m\u001b[0;34m\u001b[0m\u001b[0m\n\u001b[1;32m      3\u001b[0m     \u001b[0mmale_urls\u001b[0m\u001b[0;34m.\u001b[0m\u001b[0mextend\u001b[0m\u001b[0;34m(\u001b[0m\u001b[0murl\u001b[0m\u001b[0;34m)\u001b[0m\u001b[0;34m\u001b[0m\u001b[0;34m\u001b[0m\u001b[0m\n\u001b[1;32m      4\u001b[0m     \u001b[0mprint\u001b[0m\u001b[0;34m(\u001b[0m\u001b[0;34m'*'\u001b[0m\u001b[0;34m)\u001b[0m\u001b[0;34m\u001b[0m\u001b[0;34m\u001b[0m\u001b[0m\n",
      "\u001b[0;31mIndexError\u001b[0m: list index out of range"
     ]
    }
   ],
   "source": [
    "# for link in male_frag[33]:\n",
    "#     url=frag_url_scrape(link)\n",
    "#     male_urls.extend(url)\n",
    "#     print('*')"
   ]
  },
  {
   "cell_type": "code",
   "execution_count": 51,
   "metadata": {},
   "outputs": [],
   "source": [
    "# pd.DataFrame(np.array(male_urls)).to_csv('data/men_urls.csv')"
   ]
  },
  {
   "cell_type": "code",
   "execution_count": 6,
   "metadata": {},
   "outputs": [],
   "source": [
    "client = MongoClient('localhost', 27017)"
   ]
  },
  {
   "cell_type": "code",
   "execution_count": 7,
   "metadata": {},
   "outputs": [],
   "source": [
    "db = client['cologne']\n",
    "mens = db['mens']"
   ]
  },
  {
   "cell_type": "code",
   "execution_count": 8,
   "metadata": {},
   "outputs": [],
   "source": [
    "df=pd.read_csv('data/men_urls.csv')"
   ]
  },
  {
   "cell_type": "code",
   "execution_count": 9,
   "metadata": {},
   "outputs": [],
   "source": [
    "pages=df['0']"
   ]
  },
  {
   "cell_type": "code",
   "execution_count": 21,
   "metadata": {},
   "outputs": [],
   "source": [
    "def test_scrape(url):\n",
    "    '''\n",
    "    INPUT(String) URL of fragrence review page for a specific fragrence\n",
    "    '''\n",
    "\n",
    "    ua = UserAgent()\n",
    "    r=requests.get(url, headers = {'User-agent': ua.random})\n",
    "    #'Mozilla/5.0 (Macintosh; Intel Mac OS X 10_15_4) AppleWebKit/537.36 (KHTML, like Gecko) Chrome/81.0.4044.138 Safari/537.36'}, timeout=1000000)\n",
    "     \n",
    "    #test for 200 status\n",
    "    print(r.status_code)\n",
    "\n",
    "    soup = BeautifulSoup(r.content, \"html.parser\")\n",
    "\n",
    "    \n",
    "    \n",
    "    #name of frag\n",
    "    try:\n",
    "        name=soup.find(\"div\",{\"id\": \"col1\"})\n",
    "        name=name.find_all(\"span\",{'itemprop':'name'})\n",
    "        name=name[1].text\n",
    "    except:\n",
    "        name=''\n",
    "    \n",
    "    frag_rating={}\n",
    "    #user ratings of the frag by demographic/time of day/season\n",
    "    try:\n",
    "        ratings = soup.find(\"div\", {\"id\": \"diagramresult\"})\n",
    "        rating=ratings.attrs['title']\n",
    "        rating=rating.split(':')\n",
    "    \n",
    "    #dic of ratings - keys:type of rating - values:number of votes\n",
    "        for idx,data in enumerate(rating[:-1]):\n",
    "            if idx % 2 == 0:\n",
    "                frag_rating[data]=float(rating[idx+1])\n",
    "            else:\n",
    "                continue\n",
    "    except:\n",
    "        pass\n",
    "    \n",
    "    #unique accord dictionaries - Key()\n",
    "    try:\n",
    "        accords=soup.find(\"div\",{\"id\": \"prettyPhotoGallery\"})\n",
    "        accords=accords.find_all('div')\n",
    "    except:\n",
    "        pass\n",
    "    \n",
    "    accord_dic={}\n",
    "    for i in [2,5,8,11,14,17]:\n",
    "        try:\n",
    "            key=accords[i].find('span').text\n",
    "            value=accords[i].find('div').attrs['style']\n",
    "            value=value.split(';')[0].split(': ')[1].split('p')[0]\n",
    "            accord_dic[key]=float(value)\n",
    "        except:\n",
    "            pass\n",
    "    \n",
    "    mainpicbox=soup.find(\"div\",{\"id\": \"mainpicbox\"})\n",
    "    \n",
    "    #image of frag\n",
    "    try:\n",
    "        image=mainpicbox.find('img')\n",
    "        image=image.attrs['src']\n",
    "    except:\n",
    "        image=np.nan\n",
    "    \n",
    "    \n",
    "    \n",
    "    #have it, want it, had it, signature fragrence\n",
    "    try:\n",
    "        have_had_want=mainpicbox.find_all('p')[2].text\n",
    "        have_had_want=have_had_want.split('  ')\n",
    "    except:\n",
    "#         have_had_want=mainpicbox.find_all('p')[1].text\n",
    "#         have_had_want=have_had_want.split('  ')\n",
    "        pass\n",
    "    try:\n",
    "        have_it=int(have_had_want[0].split()[3])\n",
    "    except:\n",
    "        have_it=0\n",
    "    try:\n",
    "        had_it=int(have_had_want[1].split()[3])\n",
    "    except:\n",
    "        had_it=0\n",
    "    try:\n",
    "        want_it=int(have_had_want[2].split()[3])\n",
    "    except:\n",
    "        want_it=0\n",
    "    try:\n",
    "        signature=int(have_had_want[3].split()[2])\n",
    "    except:\n",
    "        signature=0\n",
    "    \n",
    "    #price of frag\n",
    "    prices=[]\n",
    "    try:\n",
    "        price=soup.find(\"div\",{\"id\": \"newsocial\"})\n",
    "        price=price.find_all('b')\n",
    "        for p in price:\n",
    "            prices.append(p.text)\n",
    "    except:\n",
    "        pass\n",
    "    \n",
    "    #description of frag\n",
    "    try:\n",
    "        description=soup.find('div',{'itemprop':'description'}).text\n",
    "    except:\n",
    "        description=''\n",
    "    \n",
    "    #col2 scrapes column for sillage/longevity\n",
    "    try:\n",
    "        col=soup.find('div',{'id':'col1'})\n",
    "        col1=col.find('div',{'class':'effect6'})\n",
    "    except:\n",
    "        pass\n",
    "    try:\n",
    "        pyramid=col1.find_all('p')\n",
    "    except:\n",
    "        pyramid=[np.nan]\n",
    "\n",
    "    \n",
    "    try:\n",
    "        user_pyramid=col1.find('div',{'id':'userMainNotes'})\n",
    "        user_pyramid=user_pyramid.attrs['title']\n",
    "    except:\n",
    "        user_pyramid=np.nan\n",
    "    try:\n",
    "        col2=col.find('div',{'class':'longSilBox effect6'})\n",
    "        col2=col2.find_all('table')\n",
    "    except:\n",
    "        pass\n",
    "    \n",
    "    #notes of frag by product description\n",
    "    top_notes=[]\n",
    "    top_notes_id=[]\n",
    "    mid_notes=[]\n",
    "    mid_notes_id=[]\n",
    "    base_notes=[]\n",
    "    base_notes_id=[]\n",
    "    \n",
    "    if pyramid!=[np.nan]:\n",
    "        \n",
    "        for i in range(len(pyramid)):\n",
    "            for j in range(len(pyramid[i].find_all('span',{'class':'rtgNote'}))):\n",
    "                try:\n",
    "                    if i ==0:\n",
    "                        top_notes.append(pyramid[i].find_all('span',{'class':'rtgNote'})[j].find('img').attrs['title'])\n",
    "                        top_notes_id.append(pyramid[i].find_all('span',{'class':'rtgNote'})[j].attrs['title'])\n",
    "                except:\n",
    "                    continue\n",
    "                try:\n",
    "                    if i ==1:\n",
    "                        mid_notes.append(pyramid[i].find_all('span',{'class':'rtgNote'})[j].find('img').attrs['title'])\n",
    "                        mid_notes_id.append(pyramid[i].find_all('span',{'class':'rtgNote'})[j].attrs['title'])\n",
    "                except:\n",
    "                    continue\n",
    "                try:\n",
    "                    if i==2:\n",
    "                        base_notes.append(pyramid[i].find_all('span',{'class':'rtgNote'})[j].find('img').attrs['title'])\n",
    "                        base_notes_id.append(pyramid[i].find_all('span',{'class':'rtgNote'})[j].attrs['title'])\n",
    "                except:\n",
    "                    continue\n",
    "    else:\n",
    "        pass\n",
    "                \n",
    "    #user voted strength of notes\n",
    "    try:\n",
    "        user_voted_pyramid=user_pyramid.split(';')\n",
    "    except:\n",
    "        user_voted_pyramid=np.nan\n",
    "    \n",
    "    #sillage\n",
    "    try:\n",
    "        sillage=col2[1].text.split()[2:]\n",
    "    except:\n",
    "        sillage=[np.nan,np.nan,np.nan,np.nan,np.nan,np.nan,np.nan,np.nan]\n",
    "    close_to_skin=sillage[1]\n",
    "    radiates_arm_length=sillage[3]\n",
    "    radiates_6ft=sillage[5]\n",
    "    fills_room=sillage[7]\n",
    "    \n",
    "    #Longevity\n",
    "    try:\n",
    "        longevity=col2[0].text.split()[2:]\n",
    "    except:\n",
    "        longevity=[np.nan,np.nan,np.nan,np.nan,np.nan,np.nan,np.nan,np.nan,np.nan,np.nan,np.nan,np.nan,np.nan]\n",
    "    longevity_30m_1hr=longevity[1]\n",
    "    longevity_1hr_2hr=longevity[3]\n",
    "    longevity_3hr_6hr=longevity[5]\n",
    "    longevity_7hr_12hr=longevity[8]\n",
    "    longevity_above12hr=longevity[12]\n",
    "    \n",
    "    #similiar fragrences voted by the public\n",
    "    voted_similar_frag=[]\n",
    "    try:\n",
    "        reminds_me=col.find('div',{'class':'votes'})\n",
    "        #reminds_me.find('div',{'class':'fl'})\n",
    "        remind=reminds_me.find_all('img')\n",
    "        remind_value=reminds_me.find_all('span')\n",
    "\n",
    "        for i in range(len(remind)):\n",
    "            voted_similar_frag.append(remind[i].attrs['title'])\n",
    "            voted_similar_frag.append(remind_value[i].text)\n",
    "    except:\n",
    "        pass\n",
    "    \n",
    "    #user reviews\n",
    "    user_reviews={}\n",
    "    user_review_date=[]\n",
    "    try:\n",
    "        user=col.find_all('div',{'class':'pwq'})\n",
    "        for i in range(len(user)):\n",
    "            user_name=user[i].find('div',{'class':'avatar'}).find('span').text.split('\\n')[0]\n",
    "            if '.' in user_name:\n",
    "                user_name=user_name.replace('.',' ')\n",
    "            if '$' in user_name:\n",
    "                user_name=user_name.replace('$',' ')\n",
    "            user_review=user[i].find('div',{'class':'revND'}).text.replace('\\n','')\n",
    "            user_reviews[user_name]=user_review\n",
    "            user_review_date.append(user[i].find('div',{'class':'revND'}).text.split('\\n')[1][1:])\n",
    "    except:\n",
    "        pass\n",
    "    \n",
    "    for i in user_review_date:\n",
    "        if '$' in i:\n",
    "            i=i.replace('$','dollar')\n",
    "        \n",
    "    mens.insert_one({\n",
    "    'name': name, \n",
    "    'frag rating': frag_rating, \n",
    "    'main accords': accord_dic,\n",
    "    'image':image,\n",
    "    'have it':have_it,\n",
    "    'had it':had_it,\n",
    "    'want it':want_it,\n",
    "    'signature':signature,\n",
    "    'price':prices,\n",
    "    'description':description,\n",
    "    'top notes':top_notes,\n",
    "    'top notes id':top_notes_id,\n",
    "    'mid notes':mid_notes,\n",
    "    'mid notes id':mid_notes_id,\n",
    "    'base notes':base_notes,\n",
    "    'base notes id':base_notes_id,\n",
    "    'user voted notes': user_voted_pyramid,\n",
    "    'close to skin':close_to_skin,\n",
    "    'radiates about arm length':radiates_arm_length,\n",
    "    'radiates 6ft':radiates_6ft,\n",
    "    'fills room':fills_room,\n",
    "    '30min to 1hr':longevity_30m_1hr,\n",
    "    '1hr to 2hr':longevity_1hr_2hr,\n",
    "    '3hr to 6hr':longevity_3hr_6hr,\n",
    "    '7hr to 12hr':longevity_7hr_12hr,\n",
    "    'greater than 12hr':longevity_above12hr,\n",
    "    'similiar fragrences by user vote':voted_similar_frag,\n",
    "    'user reviews':user_reviews,\n",
    "    'user review date':user_review_date})\n",
    "    interval = random.randint(10,50)\n",
    "    time.sleep(interval)\n",
    "    \n"
   ]
  },
  {
   "cell_type": "code",
   "execution_count": 58,
   "metadata": {},
   "outputs": [
    {
     "name": "stdout",
     "output_type": "stream",
     "text": [
      "200\n"
     ]
    },
    {
     "ename": "ServerSelectionTimeoutError",
     "evalue": "localhost:27017: [Errno 61] Connection refused",
     "output_type": "error",
     "traceback": [
      "\u001b[0;31m---------------------------------------------------------------------------\u001b[0m",
      "\u001b[0;31mServerSelectionTimeoutError\u001b[0m               Traceback (most recent call last)",
      "\u001b[0;32m<ipython-input-58-0c8e2452211f>\u001b[0m in \u001b[0;36m<module>\u001b[0;34m\u001b[0m\n\u001b[1;32m      1\u001b[0m \u001b[0mcount\u001b[0m\u001b[0;34m=\u001b[0m\u001b[0;36m0\u001b[0m\u001b[0;34m\u001b[0m\u001b[0;34m\u001b[0m\u001b[0m\n\u001b[1;32m      2\u001b[0m \u001b[0;32mfor\u001b[0m \u001b[0mi\u001b[0m \u001b[0;32min\u001b[0m \u001b[0mpages\u001b[0m\u001b[0;34m[\u001b[0m\u001b[0;36m7135\u001b[0m\u001b[0;34m:\u001b[0m\u001b[0;34m]\u001b[0m\u001b[0;34m:\u001b[0m\u001b[0;34m\u001b[0m\u001b[0;34m\u001b[0m\u001b[0m\n\u001b[0;32m----> 3\u001b[0;31m     \u001b[0mtest_scrape\u001b[0m\u001b[0;34m(\u001b[0m\u001b[0mi\u001b[0m\u001b[0;34m)\u001b[0m\u001b[0;34m\u001b[0m\u001b[0;34m\u001b[0m\u001b[0m\n\u001b[0m\u001b[1;32m      4\u001b[0m     \u001b[0mcount\u001b[0m\u001b[0;34m+=\u001b[0m\u001b[0;36m1\u001b[0m\u001b[0;34m\u001b[0m\u001b[0;34m\u001b[0m\u001b[0m\n\u001b[1;32m      5\u001b[0m     \u001b[0mprint\u001b[0m\u001b[0;34m(\u001b[0m\u001b[0mcount\u001b[0m\u001b[0;34m)\u001b[0m\u001b[0;34m\u001b[0m\u001b[0;34m\u001b[0m\u001b[0m\n",
      "\u001b[0;32m<ipython-input-21-92718196da07>\u001b[0m in \u001b[0;36mtest_scrape\u001b[0;34m(url)\u001b[0m\n\u001b[1;32m    255\u001b[0m     \u001b[0;34m'similiar fragrences by user vote'\u001b[0m\u001b[0;34m:\u001b[0m\u001b[0mvoted_similar_frag\u001b[0m\u001b[0;34m,\u001b[0m\u001b[0;34m\u001b[0m\u001b[0;34m\u001b[0m\u001b[0m\n\u001b[1;32m    256\u001b[0m     \u001b[0;34m'user reviews'\u001b[0m\u001b[0;34m:\u001b[0m\u001b[0muser_reviews\u001b[0m\u001b[0;34m,\u001b[0m\u001b[0;34m\u001b[0m\u001b[0;34m\u001b[0m\u001b[0m\n\u001b[0;32m--> 257\u001b[0;31m     'user review date':user_review_date})\n\u001b[0m\u001b[1;32m    258\u001b[0m     \u001b[0minterval\u001b[0m \u001b[0;34m=\u001b[0m \u001b[0mrandom\u001b[0m\u001b[0;34m.\u001b[0m\u001b[0mrandint\u001b[0m\u001b[0;34m(\u001b[0m\u001b[0;36m10\u001b[0m\u001b[0;34m,\u001b[0m\u001b[0;36m50\u001b[0m\u001b[0;34m)\u001b[0m\u001b[0;34m\u001b[0m\u001b[0;34m\u001b[0m\u001b[0m\n\u001b[1;32m    259\u001b[0m     \u001b[0mtime\u001b[0m\u001b[0;34m.\u001b[0m\u001b[0msleep\u001b[0m\u001b[0;34m(\u001b[0m\u001b[0minterval\u001b[0m\u001b[0;34m)\u001b[0m\u001b[0;34m\u001b[0m\u001b[0;34m\u001b[0m\u001b[0m\n",
      "\u001b[0;32m~/opt/anaconda3/lib/python3.7/site-packages/pymongo/collection.py\u001b[0m in \u001b[0;36minsert_one\u001b[0;34m(self, document, bypass_document_validation, session)\u001b[0m\n\u001b[1;32m    696\u001b[0m                          \u001b[0mwrite_concern\u001b[0m\u001b[0;34m=\u001b[0m\u001b[0mwrite_concern\u001b[0m\u001b[0;34m,\u001b[0m\u001b[0;34m\u001b[0m\u001b[0;34m\u001b[0m\u001b[0m\n\u001b[1;32m    697\u001b[0m                          \u001b[0mbypass_doc_val\u001b[0m\u001b[0;34m=\u001b[0m\u001b[0mbypass_document_validation\u001b[0m\u001b[0;34m,\u001b[0m\u001b[0;34m\u001b[0m\u001b[0;34m\u001b[0m\u001b[0m\n\u001b[0;32m--> 698\u001b[0;31m                          session=session),\n\u001b[0m\u001b[1;32m    699\u001b[0m             write_concern.acknowledged)\n\u001b[1;32m    700\u001b[0m \u001b[0;34m\u001b[0m\u001b[0m\n",
      "\u001b[0;32m~/opt/anaconda3/lib/python3.7/site-packages/pymongo/collection.py\u001b[0m in \u001b[0;36m_insert\u001b[0;34m(self, docs, ordered, check_keys, manipulate, write_concern, op_id, bypass_doc_val, session)\u001b[0m\n\u001b[1;32m    610\u001b[0m             return self._insert_one(\n\u001b[1;32m    611\u001b[0m                 \u001b[0mdocs\u001b[0m\u001b[0;34m,\u001b[0m \u001b[0mordered\u001b[0m\u001b[0;34m,\u001b[0m \u001b[0mcheck_keys\u001b[0m\u001b[0;34m,\u001b[0m \u001b[0mmanipulate\u001b[0m\u001b[0;34m,\u001b[0m \u001b[0mwrite_concern\u001b[0m\u001b[0;34m,\u001b[0m \u001b[0mop_id\u001b[0m\u001b[0;34m,\u001b[0m\u001b[0;34m\u001b[0m\u001b[0;34m\u001b[0m\u001b[0m\n\u001b[0;32m--> 612\u001b[0;31m                 bypass_doc_val, session)\n\u001b[0m\u001b[1;32m    613\u001b[0m \u001b[0;34m\u001b[0m\u001b[0m\n\u001b[1;32m    614\u001b[0m         \u001b[0mids\u001b[0m \u001b[0;34m=\u001b[0m \u001b[0;34m[\u001b[0m\u001b[0;34m]\u001b[0m\u001b[0;34m\u001b[0m\u001b[0;34m\u001b[0m\u001b[0m\n",
      "\u001b[0;32m~/opt/anaconda3/lib/python3.7/site-packages/pymongo/collection.py\u001b[0m in \u001b[0;36m_insert_one\u001b[0;34m(self, doc, ordered, check_keys, manipulate, write_concern, op_id, bypass_doc_val, session)\u001b[0m\n\u001b[1;32m    598\u001b[0m \u001b[0;34m\u001b[0m\u001b[0m\n\u001b[1;32m    599\u001b[0m         self.__database.client._retryable_write(\n\u001b[0;32m--> 600\u001b[0;31m             acknowledged, _insert_command, session)\n\u001b[0m\u001b[1;32m    601\u001b[0m \u001b[0;34m\u001b[0m\u001b[0m\n\u001b[1;32m    602\u001b[0m         \u001b[0;32mif\u001b[0m \u001b[0;32mnot\u001b[0m \u001b[0misinstance\u001b[0m\u001b[0;34m(\u001b[0m\u001b[0mdoc\u001b[0m\u001b[0;34m,\u001b[0m \u001b[0mRawBSONDocument\u001b[0m\u001b[0;34m)\u001b[0m\u001b[0;34m:\u001b[0m\u001b[0;34m\u001b[0m\u001b[0;34m\u001b[0m\u001b[0m\n",
      "\u001b[0;32m~/opt/anaconda3/lib/python3.7/site-packages/pymongo/mongo_client.py\u001b[0m in \u001b[0;36m_retryable_write\u001b[0;34m(self, retryable, func, session)\u001b[0m\n\u001b[1;32m   1489\u001b[0m     \u001b[0;32mdef\u001b[0m \u001b[0m_retryable_write\u001b[0m\u001b[0;34m(\u001b[0m\u001b[0mself\u001b[0m\u001b[0;34m,\u001b[0m \u001b[0mretryable\u001b[0m\u001b[0;34m,\u001b[0m \u001b[0mfunc\u001b[0m\u001b[0;34m,\u001b[0m \u001b[0msession\u001b[0m\u001b[0;34m)\u001b[0m\u001b[0;34m:\u001b[0m\u001b[0;34m\u001b[0m\u001b[0;34m\u001b[0m\u001b[0m\n\u001b[1;32m   1490\u001b[0m         \u001b[0;34m\"\"\"Internal retryable write helper.\"\"\"\u001b[0m\u001b[0;34m\u001b[0m\u001b[0;34m\u001b[0m\u001b[0m\n\u001b[0;32m-> 1491\u001b[0;31m         \u001b[0;32mwith\u001b[0m \u001b[0mself\u001b[0m\u001b[0;34m.\u001b[0m\u001b[0m_tmp_session\u001b[0m\u001b[0;34m(\u001b[0m\u001b[0msession\u001b[0m\u001b[0;34m)\u001b[0m \u001b[0;32mas\u001b[0m \u001b[0ms\u001b[0m\u001b[0;34m:\u001b[0m\u001b[0;34m\u001b[0m\u001b[0;34m\u001b[0m\u001b[0m\n\u001b[0m\u001b[1;32m   1492\u001b[0m             \u001b[0;32mreturn\u001b[0m \u001b[0mself\u001b[0m\u001b[0;34m.\u001b[0m\u001b[0m_retry_with_session\u001b[0m\u001b[0;34m(\u001b[0m\u001b[0mretryable\u001b[0m\u001b[0;34m,\u001b[0m \u001b[0mfunc\u001b[0m\u001b[0;34m,\u001b[0m \u001b[0ms\u001b[0m\u001b[0;34m,\u001b[0m \u001b[0;32mNone\u001b[0m\u001b[0;34m)\u001b[0m\u001b[0;34m\u001b[0m\u001b[0;34m\u001b[0m\u001b[0m\n\u001b[1;32m   1493\u001b[0m \u001b[0;34m\u001b[0m\u001b[0m\n",
      "\u001b[0;32m~/opt/anaconda3/lib/python3.7/contextlib.py\u001b[0m in \u001b[0;36m__enter__\u001b[0;34m(self)\u001b[0m\n\u001b[1;32m    110\u001b[0m         \u001b[0;32mdel\u001b[0m \u001b[0mself\u001b[0m\u001b[0;34m.\u001b[0m\u001b[0margs\u001b[0m\u001b[0;34m,\u001b[0m \u001b[0mself\u001b[0m\u001b[0;34m.\u001b[0m\u001b[0mkwds\u001b[0m\u001b[0;34m,\u001b[0m \u001b[0mself\u001b[0m\u001b[0;34m.\u001b[0m\u001b[0mfunc\u001b[0m\u001b[0;34m\u001b[0m\u001b[0;34m\u001b[0m\u001b[0m\n\u001b[1;32m    111\u001b[0m         \u001b[0;32mtry\u001b[0m\u001b[0;34m:\u001b[0m\u001b[0;34m\u001b[0m\u001b[0;34m\u001b[0m\u001b[0m\n\u001b[0;32m--> 112\u001b[0;31m             \u001b[0;32mreturn\u001b[0m \u001b[0mnext\u001b[0m\u001b[0;34m(\u001b[0m\u001b[0mself\u001b[0m\u001b[0;34m.\u001b[0m\u001b[0mgen\u001b[0m\u001b[0;34m)\u001b[0m\u001b[0;34m\u001b[0m\u001b[0;34m\u001b[0m\u001b[0m\n\u001b[0m\u001b[1;32m    113\u001b[0m         \u001b[0;32mexcept\u001b[0m \u001b[0mStopIteration\u001b[0m\u001b[0;34m:\u001b[0m\u001b[0;34m\u001b[0m\u001b[0;34m\u001b[0m\u001b[0m\n\u001b[1;32m    114\u001b[0m             \u001b[0;32mraise\u001b[0m \u001b[0mRuntimeError\u001b[0m\u001b[0;34m(\u001b[0m\u001b[0;34m\"generator didn't yield\"\u001b[0m\u001b[0;34m)\u001b[0m \u001b[0;32mfrom\u001b[0m \u001b[0;32mNone\u001b[0m\u001b[0;34m\u001b[0m\u001b[0;34m\u001b[0m\u001b[0m\n",
      "\u001b[0;32m~/opt/anaconda3/lib/python3.7/site-packages/pymongo/mongo_client.py\u001b[0m in \u001b[0;36m_tmp_session\u001b[0;34m(self, session, close)\u001b[0m\n\u001b[1;32m   1818\u001b[0m             \u001b[0;32mreturn\u001b[0m\u001b[0;34m\u001b[0m\u001b[0;34m\u001b[0m\u001b[0m\n\u001b[1;32m   1819\u001b[0m \u001b[0;34m\u001b[0m\u001b[0m\n\u001b[0;32m-> 1820\u001b[0;31m         \u001b[0ms\u001b[0m \u001b[0;34m=\u001b[0m \u001b[0mself\u001b[0m\u001b[0;34m.\u001b[0m\u001b[0m_ensure_session\u001b[0m\u001b[0;34m(\u001b[0m\u001b[0msession\u001b[0m\u001b[0;34m)\u001b[0m\u001b[0;34m\u001b[0m\u001b[0;34m\u001b[0m\u001b[0m\n\u001b[0m\u001b[1;32m   1821\u001b[0m         \u001b[0;32mif\u001b[0m \u001b[0ms\u001b[0m \u001b[0;32mand\u001b[0m \u001b[0mclose\u001b[0m\u001b[0;34m:\u001b[0m\u001b[0;34m\u001b[0m\u001b[0;34m\u001b[0m\u001b[0m\n\u001b[1;32m   1822\u001b[0m             \u001b[0;32mwith\u001b[0m \u001b[0ms\u001b[0m\u001b[0;34m:\u001b[0m\u001b[0;34m\u001b[0m\u001b[0;34m\u001b[0m\u001b[0m\n",
      "\u001b[0;32m~/opt/anaconda3/lib/python3.7/site-packages/pymongo/mongo_client.py\u001b[0m in \u001b[0;36m_ensure_session\u001b[0;34m(self, session)\u001b[0m\n\u001b[1;32m   1805\u001b[0m             \u001b[0;31m# Don't make implicit sessions causally consistent. Applications\u001b[0m\u001b[0;34m\u001b[0m\u001b[0;34m\u001b[0m\u001b[0;34m\u001b[0m\u001b[0m\n\u001b[1;32m   1806\u001b[0m             \u001b[0;31m# should always opt-in.\u001b[0m\u001b[0;34m\u001b[0m\u001b[0;34m\u001b[0m\u001b[0;34m\u001b[0m\u001b[0m\n\u001b[0;32m-> 1807\u001b[0;31m             \u001b[0;32mreturn\u001b[0m \u001b[0mself\u001b[0m\u001b[0;34m.\u001b[0m\u001b[0m__start_session\u001b[0m\u001b[0;34m(\u001b[0m\u001b[0;32mTrue\u001b[0m\u001b[0;34m,\u001b[0m \u001b[0mcausal_consistency\u001b[0m\u001b[0;34m=\u001b[0m\u001b[0;32mFalse\u001b[0m\u001b[0;34m)\u001b[0m\u001b[0;34m\u001b[0m\u001b[0;34m\u001b[0m\u001b[0m\n\u001b[0m\u001b[1;32m   1808\u001b[0m         \u001b[0;32mexcept\u001b[0m \u001b[0;34m(\u001b[0m\u001b[0mConfigurationError\u001b[0m\u001b[0;34m,\u001b[0m \u001b[0mInvalidOperation\u001b[0m\u001b[0;34m)\u001b[0m\u001b[0;34m:\u001b[0m\u001b[0;34m\u001b[0m\u001b[0;34m\u001b[0m\u001b[0m\n\u001b[1;32m   1809\u001b[0m             \u001b[0;31m# Sessions not supported, or multiple users authenticated.\u001b[0m\u001b[0;34m\u001b[0m\u001b[0;34m\u001b[0m\u001b[0;34m\u001b[0m\u001b[0m\n",
      "\u001b[0;32m~/opt/anaconda3/lib/python3.7/site-packages/pymongo/mongo_client.py\u001b[0m in \u001b[0;36m__start_session\u001b[0;34m(self, implicit, **kwargs)\u001b[0m\n\u001b[1;32m   1758\u001b[0m \u001b[0;34m\u001b[0m\u001b[0m\n\u001b[1;32m   1759\u001b[0m         \u001b[0;31m# Raises ConfigurationError if sessions are not supported.\u001b[0m\u001b[0;34m\u001b[0m\u001b[0;34m\u001b[0m\u001b[0;34m\u001b[0m\u001b[0m\n\u001b[0;32m-> 1760\u001b[0;31m         \u001b[0mserver_session\u001b[0m \u001b[0;34m=\u001b[0m \u001b[0mself\u001b[0m\u001b[0;34m.\u001b[0m\u001b[0m_get_server_session\u001b[0m\u001b[0;34m(\u001b[0m\u001b[0;34m)\u001b[0m\u001b[0;34m\u001b[0m\u001b[0;34m\u001b[0m\u001b[0m\n\u001b[0m\u001b[1;32m   1761\u001b[0m         \u001b[0mopts\u001b[0m \u001b[0;34m=\u001b[0m \u001b[0mclient_session\u001b[0m\u001b[0;34m.\u001b[0m\u001b[0mSessionOptions\u001b[0m\u001b[0;34m(\u001b[0m\u001b[0;34m**\u001b[0m\u001b[0mkwargs\u001b[0m\u001b[0;34m)\u001b[0m\u001b[0;34m\u001b[0m\u001b[0;34m\u001b[0m\u001b[0m\n\u001b[1;32m   1762\u001b[0m         return client_session.ClientSession(\n",
      "\u001b[0;32m~/opt/anaconda3/lib/python3.7/site-packages/pymongo/mongo_client.py\u001b[0m in \u001b[0;36m_get_server_session\u001b[0;34m(self)\u001b[0m\n\u001b[1;32m   1791\u001b[0m     \u001b[0;32mdef\u001b[0m \u001b[0m_get_server_session\u001b[0m\u001b[0;34m(\u001b[0m\u001b[0mself\u001b[0m\u001b[0;34m)\u001b[0m\u001b[0;34m:\u001b[0m\u001b[0;34m\u001b[0m\u001b[0;34m\u001b[0m\u001b[0m\n\u001b[1;32m   1792\u001b[0m         \u001b[0;34m\"\"\"Internal: start or resume a _ServerSession.\"\"\"\u001b[0m\u001b[0;34m\u001b[0m\u001b[0;34m\u001b[0m\u001b[0m\n\u001b[0;32m-> 1793\u001b[0;31m         \u001b[0;32mreturn\u001b[0m \u001b[0mself\u001b[0m\u001b[0;34m.\u001b[0m\u001b[0m_topology\u001b[0m\u001b[0;34m.\u001b[0m\u001b[0mget_server_session\u001b[0m\u001b[0;34m(\u001b[0m\u001b[0;34m)\u001b[0m\u001b[0;34m\u001b[0m\u001b[0;34m\u001b[0m\u001b[0m\n\u001b[0m\u001b[1;32m   1794\u001b[0m \u001b[0;34m\u001b[0m\u001b[0m\n\u001b[1;32m   1795\u001b[0m     \u001b[0;32mdef\u001b[0m \u001b[0m_return_server_session\u001b[0m\u001b[0;34m(\u001b[0m\u001b[0mself\u001b[0m\u001b[0;34m,\u001b[0m \u001b[0mserver_session\u001b[0m\u001b[0;34m,\u001b[0m \u001b[0mlock\u001b[0m\u001b[0;34m)\u001b[0m\u001b[0;34m:\u001b[0m\u001b[0;34m\u001b[0m\u001b[0;34m\u001b[0m\u001b[0m\n",
      "\u001b[0;32m~/opt/anaconda3/lib/python3.7/site-packages/pymongo/topology.py\u001b[0m in \u001b[0;36mget_server_session\u001b[0;34m(self)\u001b[0m\n\u001b[1;32m    475\u001b[0m                             \u001b[0many_server_selector\u001b[0m\u001b[0;34m,\u001b[0m\u001b[0;34m\u001b[0m\u001b[0;34m\u001b[0m\u001b[0m\n\u001b[1;32m    476\u001b[0m                             \u001b[0mself\u001b[0m\u001b[0;34m.\u001b[0m\u001b[0m_settings\u001b[0m\u001b[0;34m.\u001b[0m\u001b[0mserver_selection_timeout\u001b[0m\u001b[0;34m,\u001b[0m\u001b[0;34m\u001b[0m\u001b[0;34m\u001b[0m\u001b[0m\n\u001b[0;32m--> 477\u001b[0;31m                             None)\n\u001b[0m\u001b[1;32m    478\u001b[0m                 \u001b[0;32melif\u001b[0m \u001b[0;32mnot\u001b[0m \u001b[0mself\u001b[0m\u001b[0;34m.\u001b[0m\u001b[0m_description\u001b[0m\u001b[0;34m.\u001b[0m\u001b[0mreadable_servers\u001b[0m\u001b[0;34m:\u001b[0m\u001b[0;34m\u001b[0m\u001b[0;34m\u001b[0m\u001b[0m\n\u001b[1;32m    479\u001b[0m                     self._select_servers_loop(\n",
      "\u001b[0;32m~/opt/anaconda3/lib/python3.7/site-packages/pymongo/topology.py\u001b[0m in \u001b[0;36m_select_servers_loop\u001b[0;34m(self, selector, timeout, address)\u001b[0m\n\u001b[1;32m    203\u001b[0m             \u001b[0;32mif\u001b[0m \u001b[0mtimeout\u001b[0m \u001b[0;34m==\u001b[0m \u001b[0;36m0\u001b[0m \u001b[0;32mor\u001b[0m \u001b[0mnow\u001b[0m \u001b[0;34m>\u001b[0m \u001b[0mend_time\u001b[0m\u001b[0;34m:\u001b[0m\u001b[0;34m\u001b[0m\u001b[0;34m\u001b[0m\u001b[0m\n\u001b[1;32m    204\u001b[0m                 raise ServerSelectionTimeoutError(\n\u001b[0;32m--> 205\u001b[0;31m                     self._error_message(selector))\n\u001b[0m\u001b[1;32m    206\u001b[0m \u001b[0;34m\u001b[0m\u001b[0m\n\u001b[1;32m    207\u001b[0m             \u001b[0mself\u001b[0m\u001b[0;34m.\u001b[0m\u001b[0m_ensure_opened\u001b[0m\u001b[0;34m(\u001b[0m\u001b[0;34m)\u001b[0m\u001b[0;34m\u001b[0m\u001b[0;34m\u001b[0m\u001b[0m\n",
      "\u001b[0;31mServerSelectionTimeoutError\u001b[0m: localhost:27017: [Errno 61] Connection refused"
     ]
    }
   ],
   "source": [
    "count=0\n",
    "for i in pages[7135:]:\n",
    "    test_scrape(i)\n",
    "    count+=1\n",
    "    print(count)"
   ]
  },
  {
   "cell_type": "code",
   "execution_count": 54,
   "metadata": {},
   "outputs": [
    {
     "data": {
      "text/plain": [
       "7220"
      ]
     },
     "execution_count": 54,
     "metadata": {},
     "output_type": "execute_result"
    }
   ],
   "source": [
    "mens.count_documents({})"
   ]
  },
  {
   "cell_type": "code",
   "execution_count": 55,
   "metadata": {},
   "outputs": [],
   "source": [
    "df=pd.DataFrame(list(mens.find()))"
   ]
  },
  {
   "cell_type": "code",
   "execution_count": 56,
   "metadata": {},
   "outputs": [],
   "source": [
    "df.to_csv('data/first_mens_scrape7135.csv')"
   ]
  },
  {
   "cell_type": "code",
   "execution_count": null,
   "metadata": {},
   "outputs": [],
   "source": []
  }
 ],
 "metadata": {
  "kernelspec": {
   "display_name": "Python 3",
   "language": "python",
   "name": "python3"
  },
  "language_info": {
   "codemirror_mode": {
    "name": "ipython",
    "version": 3
   },
   "file_extension": ".py",
   "mimetype": "text/x-python",
   "name": "python",
   "nbconvert_exporter": "python",
   "pygments_lexer": "ipython3",
   "version": "3.7.4"
  }
 },
 "nbformat": 4,
 "nbformat_minor": 4
}
